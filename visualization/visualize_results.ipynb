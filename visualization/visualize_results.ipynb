{
 "cells": [
  {
   "cell_type": "code",
   "execution_count": 53,
   "id": "4bc8f838",
   "metadata": {},
   "outputs": [],
   "source": [
    "import numpy as np\n",
    "import pandas as pd\n",
    "import os\n",
    "from pathlib import Path\n",
    "import matplotlib.pyplot as plt\n",
    "from matplotlib.ticker import ScalarFormatter\n",
    "\n",
    "\n",
    "\n"
   ]
  },
  {
   "cell_type": "code",
   "execution_count": 54,
   "id": "7f0953f5",
   "metadata": {},
   "outputs": [],
   "source": [
    "######################################\n",
    "# Path setup\n",
    "######################################\n",
    "\n",
    "current_path = os.getcwd()\n",
    "current_path = current_path.replace(\"\\\\visualization\", \"\")\n",
    "current_path = current_path.replace(\"\\\\\", \"/\")\n",
    "\n",
    "base_path = f\"{current_path}/output/full_optimization\"\n",
    "fig_path = f\"{current_path}/visualization/figures\"\n",
    "sensor_path = f\"{current_path}/sensor_data\"\n",
    "\n",
    "if not os.path.exists(fig_path):\n",
    "    os.makedirs(fig_path)\n",
    "\n",
    "folders = [folder for folder in os.listdir(base_path) if os.path.isdir(os.path.join(base_path, folder))]"
   ]
  },
  {
   "cell_type": "code",
   "execution_count": 55,
   "id": "f26fcc26",
   "metadata": {},
   "outputs": [
    {
     "data": {
      "text/plain": [
       "['network_2corridor_initSearch_221014_08-09_multiple_seed-01',\n",
       " 'network_2corridor_initSearch_221014_08-09_single_seed-01',\n",
       " 'network_2corridor_initSearch_221014_08-09_single_seed-02',\n",
       " 'network_2corridor_initSearch_221014_08-09_single_seed-03',\n",
       " 'network_2corridor_saasbo_221014_08-09_single_seed-01',\n",
       " 'network_2corridor_saasbo_221014_08-09_single_seed-02',\n",
       " 'network_2corridor_saasbo_221014_08-09_single_seed-03',\n",
       " 'network_2corridor_turbo_221014_08-09_multiple_seed-01',\n",
       " 'network_2corridor_turbo_221014_08-09_single_seed-01',\n",
       " 'network_2corridor_vanillabo_221014_08-09_multiple_seed-01',\n",
       " 'network_2corridor_vanillabo_221014_08-09_single_seed-01',\n",
       " 'network_2corridor_vanillabo_221014_08-09_single_seed-02']"
      ]
     },
     "execution_count": 55,
     "metadata": {},
     "output_type": "execute_result"
    }
   ],
   "source": [
    "folders"
   ]
  },
  {
   "cell_type": "code",
   "execution_count": 56,
   "id": "49509054",
   "metadata": {},
   "outputs": [],
   "source": [
    "######################################\n",
    "# Input parameters\n",
    "######################################\n",
    "\n",
    "# max_iter_epoch_dict = {\n",
    "#     '1ramp': 50,\n",
    "#     '2corridor':200,\n",
    "#     '3junction': 500,\n",
    "#     '4smallRegion': 800,\n",
    "#     '5fullRegion': 10\n",
    "# }\n",
    "\n",
    "# net_list_for_print = ['1ramp', '2corridor','3junction']\n",
    "\n",
    "network_name = '2corridor' # '1ramp', '2corridor','3junction','4smallRegion','5fullRegion'\n",
    "routes_per_od = 'single' # 'single', 'multiple'ArithmeticError\n",
    "hour = '08-09'\n",
    "date = '221014'\n",
    "max_epoch = 3 "
   ]
  },
  {
   "cell_type": "code",
   "execution_count": 57,
   "id": "22417628",
   "metadata": {},
   "outputs": [
    {
     "data": {
      "text/plain": [
       "['network_2corridor_saasbo_221014_08-09_single_seed-01',\n",
       " 'network_2corridor_saasbo_221014_08-09_single_seed-02',\n",
       " 'network_2corridor_saasbo_221014_08-09_single_seed-03',\n",
       " 'network_2corridor_turbo_221014_08-09_single_seed-01',\n",
       " 'network_2corridor_vanillabo_221014_08-09_single_seed-01',\n",
       " 'network_2corridor_vanillabo_221014_08-09_single_seed-02']"
      ]
     },
     "execution_count": 57,
     "metadata": {},
     "output_type": "execute_result"
    }
   ],
   "source": [
    "list_folder_name = [\n",
    "    folder for folder in folders\n",
    "    if network_name in folder and\n",
    "       routes_per_od in folder and\n",
    "       hour in folder and\n",
    "       date in folder and\n",
    "       'initSearch' not in folder\n",
    "]\n",
    "list_folder_name"
   ]
  },
  {
   "cell_type": "code",
   "execution_count": 62,
   "id": "f0c19b9b",
   "metadata": {},
   "outputs": [
    {
     "name": "stdout",
     "output_type": "stream",
     "text": [
      "['saasbo', 'saasbo', 'saasbo', 'turbo', 'vanillabo', 'vanillabo'] ['01', '02', '03', '01', '01', '02'] 3\n"
     ]
    }
   ],
   "source": [
    "net_name = f'{network_name}_'\n",
    "model_list = [folder.split(net_name)[1].split('_')[0] for folder in list_folder_name if net_name in folder]\n",
    "seeds_list = [folder.split('seed-')[1].split('_')[0] for folder in list_folder_name if 'seed-' in folder]\n",
    "max_iter_epoch = max_epoch\n",
    "print(model_list, seeds_list, max_epoch)"
   ]
  },
  {
   "cell_type": "code",
   "execution_count": 78,
   "id": "2aa4205a",
   "metadata": {},
   "outputs": [
    {
     "data": {
      "application/vnd.microsoft.datawrangler.viewer.v0+json": {
       "columns": [
        {
         "name": "index",
         "rawType": "int64",
         "type": "integer"
        },
        {
         "name": "Folder",
         "rawType": "object",
         "type": "string"
        },
        {
         "name": "Model",
         "rawType": "object",
         "type": "string"
        },
        {
         "name": "Seed",
         "rawType": "object",
         "type": "string"
        }
       ],
       "conversionMethod": "pd.DataFrame",
       "ref": "f2de804a-69ac-447d-a427-8c9652d054e1",
       "rows": [
        [
         "0",
         "network_2corridor_saasbo_221014_08-09_single_seed-01",
         "saasbo",
         "01"
        ],
        [
         "1",
         "network_2corridor_saasbo_221014_08-09_single_seed-02",
         "saasbo",
         "02"
        ],
        [
         "2",
         "network_2corridor_saasbo_221014_08-09_single_seed-03",
         "saasbo",
         "03"
        ],
        [
         "3",
         "network_2corridor_turbo_221014_08-09_single_seed-01",
         "turbo",
         "01"
        ],
        [
         "4",
         "network_2corridor_vanillabo_221014_08-09_single_seed-01",
         "vanillabo",
         "01"
        ],
        [
         "5",
         "network_2corridor_vanillabo_221014_08-09_single_seed-02",
         "vanillabo",
         "02"
        ]
       ],
       "shape": {
        "columns": 3,
        "rows": 6
       }
      },
      "text/html": [
       "<div>\n",
       "<style scoped>\n",
       "    .dataframe tbody tr th:only-of-type {\n",
       "        vertical-align: middle;\n",
       "    }\n",
       "\n",
       "    .dataframe tbody tr th {\n",
       "        vertical-align: top;\n",
       "    }\n",
       "\n",
       "    .dataframe thead th {\n",
       "        text-align: right;\n",
       "    }\n",
       "</style>\n",
       "<table border=\"1\" class=\"dataframe\">\n",
       "  <thead>\n",
       "    <tr style=\"text-align: right;\">\n",
       "      <th></th>\n",
       "      <th>Folder</th>\n",
       "      <th>Model</th>\n",
       "      <th>Seed</th>\n",
       "    </tr>\n",
       "  </thead>\n",
       "  <tbody>\n",
       "    <tr>\n",
       "      <th>0</th>\n",
       "      <td>network_2corridor_saasbo_221014_08-09_single_s...</td>\n",
       "      <td>saasbo</td>\n",
       "      <td>01</td>\n",
       "    </tr>\n",
       "    <tr>\n",
       "      <th>1</th>\n",
       "      <td>network_2corridor_saasbo_221014_08-09_single_s...</td>\n",
       "      <td>saasbo</td>\n",
       "      <td>02</td>\n",
       "    </tr>\n",
       "    <tr>\n",
       "      <th>2</th>\n",
       "      <td>network_2corridor_saasbo_221014_08-09_single_s...</td>\n",
       "      <td>saasbo</td>\n",
       "      <td>03</td>\n",
       "    </tr>\n",
       "    <tr>\n",
       "      <th>3</th>\n",
       "      <td>network_2corridor_turbo_221014_08-09_single_se...</td>\n",
       "      <td>turbo</td>\n",
       "      <td>01</td>\n",
       "    </tr>\n",
       "    <tr>\n",
       "      <th>4</th>\n",
       "      <td>network_2corridor_vanillabo_221014_08-09_singl...</td>\n",
       "      <td>vanillabo</td>\n",
       "      <td>01</td>\n",
       "    </tr>\n",
       "    <tr>\n",
       "      <th>5</th>\n",
       "      <td>network_2corridor_vanillabo_221014_08-09_singl...</td>\n",
       "      <td>vanillabo</td>\n",
       "      <td>02</td>\n",
       "    </tr>\n",
       "  </tbody>\n",
       "</table>\n",
       "</div>"
      ],
      "text/plain": [
       "                                              Folder      Model Seed\n",
       "0  network_2corridor_saasbo_221014_08-09_single_s...     saasbo   01\n",
       "1  network_2corridor_saasbo_221014_08-09_single_s...     saasbo   02\n",
       "2  network_2corridor_saasbo_221014_08-09_single_s...     saasbo   03\n",
       "3  network_2corridor_turbo_221014_08-09_single_se...      turbo   01\n",
       "4  network_2corridor_vanillabo_221014_08-09_singl...  vanillabo   01\n",
       "5  network_2corridor_vanillabo_221014_08-09_singl...  vanillabo   02"
      ]
     },
     "execution_count": 78,
     "metadata": {},
     "output_type": "execute_result"
    }
   ],
   "source": [
    "# Create a DataFrame from the lists\n",
    "df = pd.DataFrame({\n",
    "    'Folder': list_folder_name,\n",
    "    'Model': model_list,\n",
    "    'Seed': seeds_list\n",
    "})\n",
    "df"
   ]
  },
  {
   "cell_type": "code",
   "execution_count": 100,
   "id": "47464495",
   "metadata": {},
   "outputs": [],
   "source": [
    "data_sets = {\n",
    "    (df['Model'][idx], df['Seed'][idx]): pd.read_csv(\n",
    "        f'{base_path}/{df['Folder'][idx]}/result/data_set.csv'\n",
    "    ).query('epoch <= @max_iter_epoch')\n",
    "    for idx in range(len(df))\n",
    "}"
   ]
  },
  {
   "cell_type": "code",
   "execution_count": null,
   "id": "5b34c012",
   "metadata": {},
   "outputs": [
    {
     "name": "stdout",
     "output_type": "stream",
     "text": [
      "['saasbo', 'turbo', 'vanillabo'] ['01', '02', '03']\n"
     ]
    }
   ],
   "source": [
    "# #> Datasets\n",
    "# unq_model_names = df['Model'].unique().tolist() \n",
    "# unq_seed_list =  df['Seed'].unique().tolist()\n",
    "\n",
    "# print(unq_model_names, unq_seed_list)"
   ]
  },
  {
   "cell_type": "markdown",
   "id": "19715177",
   "metadata": {},
   "source": [
    "##########"
   ]
  },
  {
   "cell_type": "code",
   "execution_count": 24,
   "id": "dc4c1957",
   "metadata": {},
   "outputs": [],
   "source": [
    "######################################\n",
    "# Export dataset function\n",
    "######################################\n",
    "\n",
    "def get_seed_list(NET_NAME):\n",
    "    \n",
    "    seeds_list_return = [\n",
    "        folder.split('sd-')[1].split('_')[0]\n",
    "        for folder in folders if NET_NAME in folder and 'sd-' in folder\n",
    "    ]\n",
    "    \n",
    "    return seeds_list_return\n",
    "\n",
    "\n",
    "def network_name_to_dataSet(network_name):\n",
    "    list_folder_name = [folder for folder in folders if f'network_{network_name}' in folder]\n",
    "\n",
    "\n",
    "    net_name = f'{network_name}_'\n",
    "    model_list = ['bo_highDim', 'bo_trustRegion', 'bo_vanilla', 'spsa']\n",
    "    seeds_list = get_seed_list(network_name)\n",
    "    max_iter_epoch = max_iter_epoch_dict.get(network_name, 1)\n",
    "    \n",
    "    #>\n",
    "    selected_folder_name = [\n",
    "            folder for folder in list_folder_name \n",
    "            if any(model in folder for model in model_list) and any(f'sd-{seed}_' in folder for seed in seeds_list)\n",
    "        ]   \n",
    "\n",
    "    #>\n",
    "    models_in_list = [\n",
    "            folder.split(net_name)[1].split('_od')[0] \n",
    "            for folder in selected_folder_name \n",
    "            if net_name in folder and any(f'sd-{seed}_' in folder for seed in seeds_list)\n",
    "        ]   \n",
    "\n",
    "\n",
    "    # Create a DataFrame from the lists\n",
    "    df = pd.DataFrame({\n",
    "        'Folder': selected_folder_name,\n",
    "        'Model': models_in_list,\n",
    "        'Seed': seeds_list\n",
    "    })\n",
    "\n",
    "    #> Datasets\n",
    "    unq_model_names = df['Model'].unique().tolist() \n",
    "    unq_seed_list =  df['Seed'].unique().tolist()\n",
    "\n",
    "     \n",
    "    data_sets = {\n",
    "        (model, seed): pd.read_csv(\n",
    "            os.path.join(base_path, df[(df['Model'] == model) & (df['Seed'] == seed)]['Folder'].values[0], 'BO/result/data_set_total.csv')\n",
    "        ).query('bo_iteration <= @max_iter_epoch')\n",
    "        for model in unq_model_names for seed in unq_seed_list\n",
    "    }\n",
    "    \n",
    "    return unq_model_names, unq_seed_list, data_sets, df"
   ]
  },
  {
   "cell_type": "code",
   "execution_count": 25,
   "id": "d22e941a",
   "metadata": {},
   "outputs": [
    {
     "name": "stdout",
     "output_type": "stream",
     "text": [
      "network_name: 1ramp\n"
     ]
    },
    {
     "data": {
      "image/png": "[encoded data removed]",
      "text/plain": [
       "<Figure size 550x500 with 1 Axes>"
      ]
     },
     "metadata": {},
     "output_type": "display_data"
    },
    {
     "name": "stdout",
     "output_type": "stream",
     "text": [
      "network_name: 2corridor\n"
     ]
    },
    {
     "data": {
      "image/png": "[encoded data removed]",
      "text/plain": [
       "<Figure size 550x500 with 1 Axes>"
      ]
     },
     "metadata": {},
     "output_type": "display_data"
    },
    {
     "name": "stdout",
     "output_type": "stream",
     "text": [
      "network_name: 3junction\n"
     ]
    },
    {
     "data": {
      "image/png": "[encoded data removed]",
      "text/plain": [
       "<Figure size 550x500 with 1 Axes>"
      ]
     },
     "metadata": {},
     "output_type": "display_data"
    }
   ],
   "source": [
    "\n",
    "######################################\n",
    "# C O N V E R G E N C E   P L O T S\n",
    "######################################\n",
    "\n",
    "\n",
    "for idx, NET_NAME in enumerate(net_list_for_print):\n",
    "    model_names, seed_list, data_sets, df_net = network_name_to_dataSet(NET_NAME)\n",
    "    print(f'network_name: {NET_NAME}')\n",
    "    \n",
    "    plt.figure(figsize=(5.5, 5))\n",
    "\n",
    "    y_min = 0  \n",
    "    y_max = float('-inf')\n",
    "\n",
    "\n",
    "    for model in model_names:\n",
    "        model_data = [data_sets[(model, seed)] for seed in seed_list]\n",
    "        \n",
    "        iterations = model_data[0]['bo_iteration']\n",
    "        losses = np.array([data['loss'].cummin() for data in model_data])\n",
    "        mean_loss = losses.mean(axis=0)\n",
    "        std_loss = losses.std(axis=0)\n",
    "        \n",
    "        #> plt\n",
    "        plt.plot(iterations, mean_loss, label=f\"{model}\", linewidth=1)\n",
    "        \n",
    "        plt.fill_between(iterations, mean_loss - 0.5 * std_loss, mean_loss + 0.5 * std_loss, alpha=0.3)\n",
    "        \n",
    "        y_max = max(y_max, mean_loss.max())\n",
    "\n",
    "    plt.yscale('log')\n",
    "\n",
    "\n",
    "    plt.xlabel('BO epoch', fontsize=24)\n",
    "    plt.ylabel('NRMSE', fontsize=24)\n",
    "\n",
    "\n",
    "    plt.tight_layout(rect=[0, 0, 1, 1])\n",
    "    plt.savefig(os.path.join(fig_path, f'convergence_plot_{NET_NAME}.png'), dpi=300)\n",
    "\n",
    "    plt.show() \n",
    "    \n",
    "    "
   ]
  },
  {
   "cell_type": "code",
   "execution_count": null,
   "id": "29d835b9",
   "metadata": {},
   "outputs": [
    {
     "name": "stdout",
     "output_type": "stream",
     "text": [
      "c:/Users/TLSYSLAB_3_ADMIN/Documents/Git/bo-urbanmobility-test/output\n",
      "network_name: 1ramp\n"
     ]
    },
    {
     "ename": "FileNotFoundError",
     "evalue": "[Errno 2] No such file or directory: 'C:\\\\Users\\\\TLSYSLAB_3_ADMIN\\\\Documents\\\\Git\\\\bo-urbanmobility-test\\\\figure\\\\convergence_plot_1ramp.png'",
     "output_type": "error",
     "traceback": [
      "\u001b[1;31m---------------------------------------------------------------------------\u001b[0m",
      "\u001b[1;31mFileNotFoundError\u001b[0m                         Traceback (most recent call last)",
      "Cell \u001b[1;32mIn[1], line 139\u001b[0m\n\u001b[0;32m    135\u001b[0m     plt\u001b[38;5;241m.\u001b[39mylabel(\u001b[38;5;124m'\u001b[39m\u001b[38;5;124mNRMSE\u001b[39m\u001b[38;5;124m'\u001b[39m, fontsize\u001b[38;5;241m=\u001b[39m\u001b[38;5;241m24\u001b[39m)\n\u001b[0;32m    138\u001b[0m     plt\u001b[38;5;241m.\u001b[39mtight_layout(rect\u001b[38;5;241m=\u001b[39m[\u001b[38;5;241m0\u001b[39m, \u001b[38;5;241m0\u001b[39m, \u001b[38;5;241m1\u001b[39m, \u001b[38;5;241m1\u001b[39m])\n\u001b[1;32m--> 139\u001b[0m     \u001b[43mplt\u001b[49m\u001b[38;5;241;43m.\u001b[39;49m\u001b[43msavefig\u001b[49m\u001b[43m(\u001b[49m\u001b[43mos\u001b[49m\u001b[38;5;241;43m.\u001b[39;49m\u001b[43mpath\u001b[49m\u001b[38;5;241;43m.\u001b[39;49m\u001b[43mjoin\u001b[49m\u001b[43m(\u001b[49m\u001b[43mfig_path\u001b[49m\u001b[43m,\u001b[49m\u001b[43m \u001b[49m\u001b[38;5;124;43mf\u001b[39;49m\u001b[38;5;124;43m'\u001b[39;49m\u001b[38;5;124;43mconvergence_plot_\u001b[39;49m\u001b[38;5;132;43;01m{\u001b[39;49;00m\u001b[43mNET_NAME\u001b[49m\u001b[38;5;132;43;01m}\u001b[39;49;00m\u001b[38;5;124;43m.png\u001b[39;49m\u001b[38;5;124;43m'\u001b[39;49m\u001b[43m)\u001b[49m\u001b[43m,\u001b[49m\u001b[43m \u001b[49m\u001b[43mdpi\u001b[49m\u001b[38;5;241;43m=\u001b[39;49m\u001b[38;5;241;43m300\u001b[39;49m\u001b[43m)\u001b[49m\n\u001b[0;32m    141\u001b[0m     plt\u001b[38;5;241m.\u001b[39mshow() \n\u001b[0;32m    144\u001b[0m \u001b[38;5;66;03m######################################\u001b[39;00m\n\u001b[0;32m    145\u001b[0m \u001b[38;5;66;03m# FIT to Ground Truth\u001b[39;00m\n\u001b[0;32m    146\u001b[0m \u001b[38;5;66;03m######################################\u001b[39;00m\n",
      "File \u001b[1;32mc:\\Users\\TLSYSLAB_3_ADMIN\\anaconda3\\envs\\langchain_env\\Lib\\site-packages\\matplotlib\\pyplot.py:1134\u001b[0m, in \u001b[0;36msavefig\u001b[1;34m(*args, **kwargs)\u001b[0m\n\u001b[0;32m   1131\u001b[0m fig \u001b[38;5;241m=\u001b[39m gcf()\n\u001b[0;32m   1132\u001b[0m \u001b[38;5;66;03m# savefig default implementation has no return, so mypy is unhappy\u001b[39;00m\n\u001b[0;32m   1133\u001b[0m \u001b[38;5;66;03m# presumably this is here because subclasses can return?\u001b[39;00m\n\u001b[1;32m-> 1134\u001b[0m res \u001b[38;5;241m=\u001b[39m \u001b[43mfig\u001b[49m\u001b[38;5;241;43m.\u001b[39;49m\u001b[43msavefig\u001b[49m\u001b[43m(\u001b[49m\u001b[38;5;241;43m*\u001b[39;49m\u001b[43margs\u001b[49m\u001b[43m,\u001b[49m\u001b[43m \u001b[49m\u001b[38;5;241;43m*\u001b[39;49m\u001b[38;5;241;43m*\u001b[39;49m\u001b[43mkwargs\u001b[49m\u001b[43m)\u001b[49m  \u001b[38;5;66;03m# type: ignore[func-returns-value]\u001b[39;00m\n\u001b[0;32m   1135\u001b[0m fig\u001b[38;5;241m.\u001b[39mcanvas\u001b[38;5;241m.\u001b[39mdraw_idle()  \u001b[38;5;66;03m# Need this if 'transparent=True', to reset colors.\u001b[39;00m\n\u001b[0;32m   1136\u001b[0m \u001b[38;5;28;01mreturn\u001b[39;00m res\n",
      "File \u001b[1;32mc:\\Users\\TLSYSLAB_3_ADMIN\\anaconda3\\envs\\langchain_env\\Lib\\site-packages\\matplotlib\\figure.py:3390\u001b[0m, in \u001b[0;36mFigure.savefig\u001b[1;34m(self, fname, transparent, **kwargs)\u001b[0m\n\u001b[0;32m   3388\u001b[0m     \u001b[38;5;28;01mfor\u001b[39;00m ax \u001b[38;5;129;01min\u001b[39;00m \u001b[38;5;28mself\u001b[39m\u001b[38;5;241m.\u001b[39maxes:\n\u001b[0;32m   3389\u001b[0m         _recursively_make_axes_transparent(stack, ax)\n\u001b[1;32m-> 3390\u001b[0m \u001b[38;5;28;43mself\u001b[39;49m\u001b[38;5;241;43m.\u001b[39;49m\u001b[43mcanvas\u001b[49m\u001b[38;5;241;43m.\u001b[39;49m\u001b[43mprint_figure\u001b[49m\u001b[43m(\u001b[49m\u001b[43mfname\u001b[49m\u001b[43m,\u001b[49m\u001b[43m \u001b[49m\u001b[38;5;241;43m*\u001b[39;49m\u001b[38;5;241;43m*\u001b[39;49m\u001b[43mkwargs\u001b[49m\u001b[43m)\u001b[49m\n",
      "File \u001b[1;32mc:\\Users\\TLSYSLAB_3_ADMIN\\anaconda3\\envs\\langchain_env\\Lib\\site-packages\\matplotlib\\backend_bases.py:2193\u001b[0m, in \u001b[0;36mFigureCanvasBase.print_figure\u001b[1;34m(self, filename, dpi, facecolor, edgecolor, orientation, format, bbox_inches, pad_inches, bbox_extra_artists, backend, **kwargs)\u001b[0m\n\u001b[0;32m   2189\u001b[0m \u001b[38;5;28;01mtry\u001b[39;00m:\n\u001b[0;32m   2190\u001b[0m     \u001b[38;5;66;03m# _get_renderer may change the figure dpi (as vector formats\u001b[39;00m\n\u001b[0;32m   2191\u001b[0m     \u001b[38;5;66;03m# force the figure dpi to 72), so we need to set it again here.\u001b[39;00m\n\u001b[0;32m   2192\u001b[0m     \u001b[38;5;28;01mwith\u001b[39;00m cbook\u001b[38;5;241m.\u001b[39m_setattr_cm(\u001b[38;5;28mself\u001b[39m\u001b[38;5;241m.\u001b[39mfigure, dpi\u001b[38;5;241m=\u001b[39mdpi):\n\u001b[1;32m-> 2193\u001b[0m         result \u001b[38;5;241m=\u001b[39m \u001b[43mprint_method\u001b[49m\u001b[43m(\u001b[49m\n\u001b[0;32m   2194\u001b[0m \u001b[43m            \u001b[49m\u001b[43mfilename\u001b[49m\u001b[43m,\u001b[49m\n\u001b[0;32m   2195\u001b[0m \u001b[43m            \u001b[49m\u001b[43mfacecolor\u001b[49m\u001b[38;5;241;43m=\u001b[39;49m\u001b[43mfacecolor\u001b[49m\u001b[43m,\u001b[49m\n\u001b[0;32m   2196\u001b[0m \u001b[43m            \u001b[49m\u001b[43medgecolor\u001b[49m\u001b[38;5;241;43m=\u001b[39;49m\u001b[43medgecolor\u001b[49m\u001b[43m,\u001b[49m\n\u001b[0;32m   2197\u001b[0m \u001b[43m            \u001b[49m\u001b[43morientation\u001b[49m\u001b[38;5;241;43m=\u001b[39;49m\u001b[43morientation\u001b[49m\u001b[43m,\u001b[49m\n\u001b[0;32m   2198\u001b[0m \u001b[43m            \u001b[49m\u001b[43mbbox_inches_restore\u001b[49m\u001b[38;5;241;43m=\u001b[39;49m\u001b[43m_bbox_inches_restore\u001b[49m\u001b[43m,\u001b[49m\n\u001b[0;32m   2199\u001b[0m \u001b[43m            \u001b[49m\u001b[38;5;241;43m*\u001b[39;49m\u001b[38;5;241;43m*\u001b[39;49m\u001b[43mkwargs\u001b[49m\u001b[43m)\u001b[49m\n\u001b[0;32m   2200\u001b[0m \u001b[38;5;28;01mfinally\u001b[39;00m:\n\u001b[0;32m   2201\u001b[0m     \u001b[38;5;28;01mif\u001b[39;00m bbox_inches \u001b[38;5;129;01mand\u001b[39;00m restore_bbox:\n",
      "File \u001b[1;32mc:\\Users\\TLSYSLAB_3_ADMIN\\anaconda3\\envs\\langchain_env\\Lib\\site-packages\\matplotlib\\backend_bases.py:2043\u001b[0m, in \u001b[0;36mFigureCanvasBase._switch_canvas_and_return_print_method.<locals>.<lambda>\u001b[1;34m(*args, **kwargs)\u001b[0m\n\u001b[0;32m   2039\u001b[0m     optional_kws \u001b[38;5;241m=\u001b[39m {  \u001b[38;5;66;03m# Passed by print_figure for other renderers.\u001b[39;00m\n\u001b[0;32m   2040\u001b[0m         \u001b[38;5;124m\"\u001b[39m\u001b[38;5;124mdpi\u001b[39m\u001b[38;5;124m\"\u001b[39m, \u001b[38;5;124m\"\u001b[39m\u001b[38;5;124mfacecolor\u001b[39m\u001b[38;5;124m\"\u001b[39m, \u001b[38;5;124m\"\u001b[39m\u001b[38;5;124medgecolor\u001b[39m\u001b[38;5;124m\"\u001b[39m, \u001b[38;5;124m\"\u001b[39m\u001b[38;5;124morientation\u001b[39m\u001b[38;5;124m\"\u001b[39m,\n\u001b[0;32m   2041\u001b[0m         \u001b[38;5;124m\"\u001b[39m\u001b[38;5;124mbbox_inches_restore\u001b[39m\u001b[38;5;124m\"\u001b[39m}\n\u001b[0;32m   2042\u001b[0m     skip \u001b[38;5;241m=\u001b[39m optional_kws \u001b[38;5;241m-\u001b[39m {\u001b[38;5;241m*\u001b[39minspect\u001b[38;5;241m.\u001b[39msignature(meth)\u001b[38;5;241m.\u001b[39mparameters}\n\u001b[1;32m-> 2043\u001b[0m     print_method \u001b[38;5;241m=\u001b[39m functools\u001b[38;5;241m.\u001b[39mwraps(meth)(\u001b[38;5;28;01mlambda\u001b[39;00m \u001b[38;5;241m*\u001b[39margs, \u001b[38;5;241m*\u001b[39m\u001b[38;5;241m*\u001b[39mkwargs: \u001b[43mmeth\u001b[49m\u001b[43m(\u001b[49m\n\u001b[0;32m   2044\u001b[0m \u001b[43m        \u001b[49m\u001b[38;5;241;43m*\u001b[39;49m\u001b[43margs\u001b[49m\u001b[43m,\u001b[49m\u001b[43m \u001b[49m\u001b[38;5;241;43m*\u001b[39;49m\u001b[38;5;241;43m*\u001b[39;49m\u001b[43m{\u001b[49m\u001b[43mk\u001b[49m\u001b[43m:\u001b[49m\u001b[43m \u001b[49m\u001b[43mv\u001b[49m\u001b[43m \u001b[49m\u001b[38;5;28;43;01mfor\u001b[39;49;00m\u001b[43m \u001b[49m\u001b[43mk\u001b[49m\u001b[43m,\u001b[49m\u001b[43m \u001b[49m\u001b[43mv\u001b[49m\u001b[43m \u001b[49m\u001b[38;5;129;43;01min\u001b[39;49;00m\u001b[43m \u001b[49m\u001b[43mkwargs\u001b[49m\u001b[38;5;241;43m.\u001b[39;49m\u001b[43mitems\u001b[49m\u001b[43m(\u001b[49m\u001b[43m)\u001b[49m\u001b[43m \u001b[49m\u001b[38;5;28;43;01mif\u001b[39;49;00m\u001b[43m \u001b[49m\u001b[43mk\u001b[49m\u001b[43m \u001b[49m\u001b[38;5;129;43;01mnot\u001b[39;49;00m\u001b[43m \u001b[49m\u001b[38;5;129;43;01min\u001b[39;49;00m\u001b[43m \u001b[49m\u001b[43mskip\u001b[49m\u001b[43m}\u001b[49m\u001b[43m)\u001b[49m)\n\u001b[0;32m   2045\u001b[0m \u001b[38;5;28;01melse\u001b[39;00m:  \u001b[38;5;66;03m# Let third-parties do as they see fit.\u001b[39;00m\n\u001b[0;32m   2046\u001b[0m     print_method \u001b[38;5;241m=\u001b[39m meth\n",
      "File \u001b[1;32mc:\\Users\\TLSYSLAB_3_ADMIN\\anaconda3\\envs\\langchain_env\\Lib\\site-packages\\matplotlib\\backends\\backend_agg.py:497\u001b[0m, in \u001b[0;36mFigureCanvasAgg.print_png\u001b[1;34m(self, filename_or_obj, metadata, pil_kwargs)\u001b[0m\n\u001b[0;32m    450\u001b[0m \u001b[38;5;28;01mdef\u001b[39;00m \u001b[38;5;21mprint_png\u001b[39m(\u001b[38;5;28mself\u001b[39m, filename_or_obj, \u001b[38;5;241m*\u001b[39m, metadata\u001b[38;5;241m=\u001b[39m\u001b[38;5;28;01mNone\u001b[39;00m, pil_kwargs\u001b[38;5;241m=\u001b[39m\u001b[38;5;28;01mNone\u001b[39;00m):\n\u001b[0;32m    451\u001b[0m \u001b[38;5;250m    \u001b[39m\u001b[38;5;124;03m\"\"\"\u001b[39;00m\n\u001b[0;32m    452\u001b[0m \u001b[38;5;124;03m    Write the figure to a PNG file.\u001b[39;00m\n\u001b[0;32m    453\u001b[0m \n\u001b[1;32m   (...)\u001b[0m\n\u001b[0;32m    495\u001b[0m \u001b[38;5;124;03m        *metadata*, including the default 'Software' key.\u001b[39;00m\n\u001b[0;32m    496\u001b[0m \u001b[38;5;124;03m    \"\"\"\u001b[39;00m\n\u001b[1;32m--> 497\u001b[0m     \u001b[38;5;28;43mself\u001b[39;49m\u001b[38;5;241;43m.\u001b[39;49m\u001b[43m_print_pil\u001b[49m\u001b[43m(\u001b[49m\u001b[43mfilename_or_obj\u001b[49m\u001b[43m,\u001b[49m\u001b[43m \u001b[49m\u001b[38;5;124;43m\"\u001b[39;49m\u001b[38;5;124;43mpng\u001b[39;49m\u001b[38;5;124;43m\"\u001b[39;49m\u001b[43m,\u001b[49m\u001b[43m \u001b[49m\u001b[43mpil_kwargs\u001b[49m\u001b[43m,\u001b[49m\u001b[43m \u001b[49m\u001b[43mmetadata\u001b[49m\u001b[43m)\u001b[49m\n",
      "File \u001b[1;32mc:\\Users\\TLSYSLAB_3_ADMIN\\anaconda3\\envs\\langchain_env\\Lib\\site-packages\\matplotlib\\backends\\backend_agg.py:446\u001b[0m, in \u001b[0;36mFigureCanvasAgg._print_pil\u001b[1;34m(self, filename_or_obj, fmt, pil_kwargs, metadata)\u001b[0m\n\u001b[0;32m    441\u001b[0m \u001b[38;5;250m\u001b[39m\u001b[38;5;124;03m\"\"\"\u001b[39;00m\n\u001b[0;32m    442\u001b[0m \u001b[38;5;124;03mDraw the canvas, then save it using `.image.imsave` (to which\u001b[39;00m\n\u001b[0;32m    443\u001b[0m \u001b[38;5;124;03m*pil_kwargs* and *metadata* are forwarded).\u001b[39;00m\n\u001b[0;32m    444\u001b[0m \u001b[38;5;124;03m\"\"\"\u001b[39;00m\n\u001b[0;32m    445\u001b[0m FigureCanvasAgg\u001b[38;5;241m.\u001b[39mdraw(\u001b[38;5;28mself\u001b[39m)\n\u001b[1;32m--> 446\u001b[0m \u001b[43mmpl\u001b[49m\u001b[38;5;241;43m.\u001b[39;49m\u001b[43mimage\u001b[49m\u001b[38;5;241;43m.\u001b[39;49m\u001b[43mimsave\u001b[49m\u001b[43m(\u001b[49m\n\u001b[0;32m    447\u001b[0m \u001b[43m    \u001b[49m\u001b[43mfilename_or_obj\u001b[49m\u001b[43m,\u001b[49m\u001b[43m \u001b[49m\u001b[38;5;28;43mself\u001b[39;49m\u001b[38;5;241;43m.\u001b[39;49m\u001b[43mbuffer_rgba\u001b[49m\u001b[43m(\u001b[49m\u001b[43m)\u001b[49m\u001b[43m,\u001b[49m\u001b[43m \u001b[49m\u001b[38;5;28;43mformat\u001b[39;49m\u001b[38;5;241;43m=\u001b[39;49m\u001b[43mfmt\u001b[49m\u001b[43m,\u001b[49m\u001b[43m \u001b[49m\u001b[43morigin\u001b[49m\u001b[38;5;241;43m=\u001b[39;49m\u001b[38;5;124;43m\"\u001b[39;49m\u001b[38;5;124;43mupper\u001b[39;49m\u001b[38;5;124;43m\"\u001b[39;49m\u001b[43m,\u001b[49m\n\u001b[0;32m    448\u001b[0m \u001b[43m    \u001b[49m\u001b[43mdpi\u001b[49m\u001b[38;5;241;43m=\u001b[39;49m\u001b[38;5;28;43mself\u001b[39;49m\u001b[38;5;241;43m.\u001b[39;49m\u001b[43mfigure\u001b[49m\u001b[38;5;241;43m.\u001b[39;49m\u001b[43mdpi\u001b[49m\u001b[43m,\u001b[49m\u001b[43m \u001b[49m\u001b[43mmetadata\u001b[49m\u001b[38;5;241;43m=\u001b[39;49m\u001b[43mmetadata\u001b[49m\u001b[43m,\u001b[49m\u001b[43m \u001b[49m\u001b[43mpil_kwargs\u001b[49m\u001b[38;5;241;43m=\u001b[39;49m\u001b[43mpil_kwargs\u001b[49m\u001b[43m)\u001b[49m\n",
      "File \u001b[1;32mc:\\Users\\TLSYSLAB_3_ADMIN\\anaconda3\\envs\\langchain_env\\Lib\\site-packages\\matplotlib\\image.py:1656\u001b[0m, in \u001b[0;36mimsave\u001b[1;34m(fname, arr, vmin, vmax, cmap, format, origin, dpi, metadata, pil_kwargs)\u001b[0m\n\u001b[0;32m   1654\u001b[0m pil_kwargs\u001b[38;5;241m.\u001b[39msetdefault(\u001b[38;5;124m\"\u001b[39m\u001b[38;5;124mformat\u001b[39m\u001b[38;5;124m\"\u001b[39m, \u001b[38;5;28mformat\u001b[39m)\n\u001b[0;32m   1655\u001b[0m pil_kwargs\u001b[38;5;241m.\u001b[39msetdefault(\u001b[38;5;124m\"\u001b[39m\u001b[38;5;124mdpi\u001b[39m\u001b[38;5;124m\"\u001b[39m, (dpi, dpi))\n\u001b[1;32m-> 1656\u001b[0m \u001b[43mimage\u001b[49m\u001b[38;5;241;43m.\u001b[39;49m\u001b[43msave\u001b[49m\u001b[43m(\u001b[49m\u001b[43mfname\u001b[49m\u001b[43m,\u001b[49m\u001b[43m \u001b[49m\u001b[38;5;241;43m*\u001b[39;49m\u001b[38;5;241;43m*\u001b[39;49m\u001b[43mpil_kwargs\u001b[49m\u001b[43m)\u001b[49m\n",
      "File \u001b[1;32mc:\\Users\\TLSYSLAB_3_ADMIN\\anaconda3\\envs\\langchain_env\\Lib\\site-packages\\PIL\\Image.py:2600\u001b[0m, in \u001b[0;36mImage.save\u001b[1;34m(self, fp, format, **params)\u001b[0m\n\u001b[0;32m   2598\u001b[0m         fp \u001b[38;5;241m=\u001b[39m builtins\u001b[38;5;241m.\u001b[39mopen(filename, \u001b[38;5;124m\"\u001b[39m\u001b[38;5;124mr+b\u001b[39m\u001b[38;5;124m\"\u001b[39m)\n\u001b[0;32m   2599\u001b[0m     \u001b[38;5;28;01melse\u001b[39;00m:\n\u001b[1;32m-> 2600\u001b[0m         fp \u001b[38;5;241m=\u001b[39m \u001b[43mbuiltins\u001b[49m\u001b[38;5;241;43m.\u001b[39;49m\u001b[43mopen\u001b[49m\u001b[43m(\u001b[49m\u001b[43mfilename\u001b[49m\u001b[43m,\u001b[49m\u001b[43m \u001b[49m\u001b[38;5;124;43m\"\u001b[39;49m\u001b[38;5;124;43mw+b\u001b[39;49m\u001b[38;5;124;43m\"\u001b[39;49m\u001b[43m)\u001b[49m\n\u001b[0;32m   2601\u001b[0m \u001b[38;5;28;01melse\u001b[39;00m:\n\u001b[0;32m   2602\u001b[0m     fp \u001b[38;5;241m=\u001b[39m cast(IO[\u001b[38;5;28mbytes\u001b[39m], fp)\n",
      "\u001b[1;31mFileNotFoundError\u001b[0m: [Errno 2] No such file or directory: 'C:\\\\Users\\\\TLSYSLAB_3_ADMIN\\\\Documents\\\\Git\\\\bo-urbanmobility-test\\\\figure\\\\convergence_plot_1ramp.png'"
     ]
    },
    {
     "data": {
      "image/png": "[encoded data removed]",
      "text/plain": [
       "<Figure size 550x500 with 1 Axes>"
      ]
     },
     "metadata": {},
     "output_type": "display_data"
    }
   ],
   "source": [
    "\n",
    "\n",
    "\n",
    "\n",
    "######################################\n",
    "# FIT to Ground Truth\n",
    "######################################\n",
    "\n",
    "\n",
    "def cal_min_max_vec(NET_NAME, DataSet, SensorCount):\n",
    "    sensor_count_gt = pd.read_csv(f'{sensor_path}/gt_edge_data_{NET_NAME}-221014-from8to9.csv')\n",
    "\n",
    "    glob_min_val = float('inf')\n",
    "    glob_max_val = float('-inf')\n",
    "\n",
    "    for model in model_names:\n",
    "        for seed in seed_list:\n",
    "            data_set_total = DataSet[(model, seed)]\n",
    "            sensor_count_bo = SensorCount[(model, seed)]\n",
    "\n",
    "            data_set_bo = data_set_total[data_set_total['bo_iteration'] > 0].reset_index(drop=True)\n",
    "            data_set_bo_iter_best = data_set_bo.loc[data_set_bo.groupby('bo_iteration')['loss'].idxmin()].reset_index(drop=True)\n",
    "\n",
    "            bo_result_iter_best_improve = data_set_bo_iter_best[[\"bo_iteration\", \"batch\", \"loss\"]].copy()\n",
    "            bo_result_iter_best_improve[\"best_value\"] = bo_result_iter_best_improve[\"loss\"].expanding().min()\n",
    "            bo_result_iter_best_improve = bo_result_iter_best_improve[\n",
    "                bo_result_iter_best_improve[\"loss\"] == bo_result_iter_best_improve[\"best_value\"]\n",
    "            ].reset_index(drop=True)\n",
    "            bo_result_iter_best_improve = bo_result_iter_best_improve.drop(columns=[\"best_value\"])\n",
    "\n",
    "            \n",
    "            for idx, row in bo_result_iter_best_improve.iterrows():\n",
    "                curr_bo_iteration = int(row['bo_iteration'])\n",
    "                curr_batch = int(row['batch'])\n",
    "\n",
    "                curr_sensor_count_bo = sensor_count_bo.query(\n",
    "                    \"bo_iteration == @curr_bo_iteration and batch == @curr_batch\"\n",
    "                )[['edge_id', 'interval_nVehContrib']]\n",
    "                \n",
    "                sensor_count_merged = sensor_count_gt.merge(\n",
    "                    curr_sensor_count_bo,\n",
    "                    on=['edge_id'],\n",
    "                    how='left',\n",
    "                    suffixes=('_gt', '_bo')\n",
    "                )\n",
    "\n",
    "                \n",
    "                min_val = np.nanmin([\n",
    "                    sensor_count_merged['interval_nVehContrib_gt'].min(), \n",
    "                    sensor_count_merged['interval_nVehContrib_bo'].min()\n",
    "                ])\n",
    "                \n",
    "                \n",
    "                max_val = np.nanmax([\n",
    "                    sensor_count_merged['interval_nVehContrib_gt'].max(), \n",
    "                    sensor_count_merged['interval_nVehContrib_bo'].max()\n",
    "                ])\n",
    "                \n",
    "                \n",
    "                vec = np.arange(min_val, max_val)\n",
    "                \n",
    "            min_val = min(vec)\n",
    "            max_val = max(vec)\n",
    "            \n",
    "            if min_val < glob_min_val:\n",
    "                glob_min_val = min_val\n",
    "            if max_val > glob_max_val:\n",
    "                glob_max_val = max_val\n",
    "            \n",
    "\n",
    "    vec = np.arange(glob_min_val * 0.9, glob_max_val * 1.1)\n",
    "    \n",
    "    return vec  \n",
    "\n",
    "\n",
    "def plot_fit_GT(NET_NAME, DataSet, SensorCount, VEC_element):\n",
    "    sensor_count_gt = pd.read_csv(f'{sensor_path}/gt_edge_data_{NET_NAME}-221014-from8to9.csv')\n",
    "    \n",
    "    fig, axes = plt.subplots(1, 4, figsize=(20, 5), sharey=True)\n",
    "\n",
    "\n",
    "    if NET_NAME == '1ramp':\n",
    "            network_name_append = 'Simple ramp'\n",
    "    elif NET_NAME == '2corridor':\n",
    "        network_name_append = 'One-way corridor'\n",
    "    elif NET_NAME == '3junction':\n",
    "        network_name_append = 'Junction'\n",
    "    elif NET_NAME == '4smallRegion':\n",
    "        network_name_append = 'Small region'\n",
    "    \n",
    "    \n",
    "\n",
    "    for idx, model in enumerate(model_names):\n",
    "        ax = axes[idx]\n",
    "        \n",
    "        if model == 'bo_highDim':\n",
    "            model_append = 'SAASBO'\n",
    "        elif model == 'bo_trustRegion':\n",
    "            model_append = 'TuRBO' \n",
    "        elif model == 'bo_vanilla':\n",
    "            model_append = 'Vanilla BO'\n",
    "        elif model == 'spsa':\n",
    "            model_append = 'SPSA'\n",
    "        \n",
    "        \n",
    "        # Initialize a DataFrame to store the best solutions for all seeds\n",
    "        combined_sensor_count = sensor_count_gt.copy()\n",
    "        combined_sensor_count['interval_nVehContrib_bo'] = np.nan  # Add a column for simulated values\n",
    "        \n",
    "        combined_sensor_count_merged = pd.DataFrame()\n",
    "        for seed in seed_list:  # Iterate over seeds\n",
    "            combined_sensor_count = sensor_count_gt.copy()\n",
    "            combined_sensor_count['interval_nVehContrib_bo'] = np.nan  # Add a column for simulated values\n",
    "            \n",
    "            data_set_total = DataSet[(model, seed)]\n",
    "            sensor_count_bo = SensorCount[(model, seed)]\n",
    "\n",
    "            # Filter the best solution for the current seed\n",
    "            data_set_bo = data_set_total[data_set_total['bo_iteration'] > 0].reset_index(drop=True)\n",
    "            data_set_bo_iter_best = data_set_bo.loc[data_set_bo.groupby('bo_iteration')['loss'].idxmin()].reset_index(drop=True)\n",
    "            final_best = data_set_bo_iter_best.loc[data_set_bo_iter_best['loss'].idxmin()]\n",
    "\n",
    "            curr_bo_iteration = int(final_best['bo_iteration'])\n",
    "            curr_batch = int(final_best['batch'])\n",
    "\n",
    "            # Get the sensor count for the best solution\n",
    "            curr_sensor_count_bo = sensor_count_bo.query(\n",
    "                \"bo_iteration == @curr_bo_iteration and batch == @curr_batch\"\n",
    "            )[['edge_id', 'interval_nVehContrib']]\n",
    "\n",
    "            # Merge with ground truth and update the combined DataFrame\n",
    "            sensor_count_merged = sensor_count_gt.merge(\n",
    "                curr_sensor_count_bo,\n",
    "                on=['edge_id'],\n",
    "                how='left',\n",
    "                suffixes=('_gt', '_bo')\n",
    "            )\n",
    "            combined_sensor_count['interval_nVehContrib_bo'] = combined_sensor_count['interval_nVehContrib_bo'].combine_first(\n",
    "                sensor_count_merged['interval_nVehContrib_bo']\n",
    "            )\n",
    "            combined_sensor_count_merged = pd.concat([combined_sensor_count_merged, combined_sensor_count], ignore_index=True)\n",
    "            \n",
    "        \n",
    "        # Scatter plot with lines connecting points with the same 'interval_nVehContrib'\n",
    "        for key, group in combined_sensor_count_merged.groupby('interval_nVehContrib'):\n",
    "            ax.plot(VEC_element, VEC_element, 'r-', label=\"Perfect match\", zorder=1)\n",
    "            # Calculate mean and standard deviation for the group\n",
    "            mean_bo = group['interval_nVehContrib_bo'].mean()\n",
    "            std_bo = group['interval_nVehContrib_bo'].std()\n",
    "\n",
    "            ax.scatter(\n",
    "                key,  # x-coordinate is the GT value (key)\n",
    "                mean_bo,  # y-coordinate is the mean of simulated values\n",
    "                label=f\"{model} - {key}\",\n",
    "                alpha=0.9,\n",
    "                marker='o',\n",
    "                s=50,  # Adjust the size of the scatter points\n",
    "                zorder=2,\n",
    "                color='black'\n",
    "            )\n",
    "            \n",
    "            # Calculate alpha based on proximity to mean_bo\n",
    "            alpha_values = 0.8 - 0.7 * (abs(group['interval_nVehContrib_bo'] - mean_bo) / (std_bo if std_bo != 0 else 1))\n",
    "            alpha_values = alpha_values.clip(0.1, 1.0)  # Ensure alpha is between 0.1 and 1.0\n",
    "\n",
    "            # Scatter plot with varying alpha\n",
    "            ax.scatter(\n",
    "                group['interval_nVehContrib'],\n",
    "                group['interval_nVehContrib_bo'],\n",
    "                alpha=alpha_values,\n",
    "                marker='o',\n",
    "                s=50,  # Adjust the size of the scatter points\n",
    "                zorder=1,\n",
    "                color='blue'\n",
    "            )\n",
    "\n",
    "            # Plot the error bar (standard deviation / 2)\n",
    "            ax.plot(\n",
    "                [key, key],  # x-coordinates for the vertical line\n",
    "                [mean_bo - std_bo / 2, mean_bo + std_bo / 2],  # y-coordinates for the error range\n",
    "                color='black',\n",
    "                alpha=0.7,\n",
    "                zorder=2\n",
    "            )\n",
    "            \n",
    "        ax.set_xlabel('GT edge counts', fontsize=24)\n",
    "        if idx == 0:\n",
    "            ax.set_ylabel('Simulated edge counts', fontsize=24)\n",
    "            ax.set_title(f'{network_name_append} | {model_append}', fontsize=24)\n",
    "        else:\n",
    "            ax.set_title(f' {model_append}', fontsize=24)\n",
    "    \n",
    "    plt.tight_layout()\n",
    "    plt.savefig(os.path.join(fig_path, f'Fit_{NET_NAME}_1x4.png'), dpi=300)\n",
    "    plt.show()\n",
    "\n",
    "\n",
    "\n",
    "for idx, NET_NAME in enumerate(net_list_for_print):\n",
    "    model_names, seed_list, data_sets, df_net = network_name_to_dataSet(NET_NAME)\n",
    "\n",
    "    max_iter_epoch = max_iter_epoch_dict.get(NET_NAME, 1)\n",
    "\n",
    "    \n",
    "    \n",
    "    data_set_total_all_model = {\n",
    "        (model, seed): pd.read_csv(\n",
    "            os.path.join(base_path, df_net[(df_net['Model'] == model) & (df_net['Seed'] == seed)]['Folder'].values[0], 'BO/result/data_set_total.csv')\n",
    "        ).query('bo_iteration <= @max_iter_epoch')\n",
    "        for model in model_names for seed in seed_list\n",
    "    }\n",
    "\n",
    "    # print(data_set_total_all_model.keys())\n",
    "\n",
    "    sensor_count_bo_all_model = {\n",
    "        (model, seed): pd.read_csv(\n",
    "            os.path.join(base_path, df_net[(df_net['Model'] == model) & (df_net['Seed'] == seed)]['Folder'].values[0], 'BO/result/sensor_count_bo.csv')\n",
    "        )\n",
    "        for model in model_names for seed in seed_list\n",
    "    }\n",
    " \n",
    "\n",
    "    data_set_total_all_model_no_seed = data_set_total_all_model.copy()\n",
    "    sensor_count_bo_all_model_no_seed = sensor_count_bo_all_model.copy()\n",
    "\n",
    "    #> min, max 벡터 계산\n",
    "    vec = cal_min_max_vec(NET_NAME, data_set_total_all_model, sensor_count_bo_all_model)\n",
    "    \n",
    "    \n",
    "    #>\n",
    "    plot_fit_GT(NET_NAME, data_set_total_all_model, sensor_count_bo_all_model, vec)\n",
    "    \n",
    "    \n"
   ]
  }
 ],
 "metadata": {
  "kernelspec": {
   "display_name": "langchain_env",
   "language": "python",
   "name": "python3"
  },
  "language_info": {
   "codemirror_mode": {
    "name": "ipython",
    "version": 3
   },
   "file_extension": ".py",
   "mimetype": "text/x-python",
   "name": "python",
   "nbconvert_exporter": "python",
   "pygments_lexer": "ipython3",
   "version": "3.12.9"
  }
 },
 "nbformat": 4,
 "nbformat_minor": 5
}
